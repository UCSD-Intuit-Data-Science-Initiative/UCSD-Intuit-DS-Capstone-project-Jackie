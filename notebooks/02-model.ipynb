{
 "cells": [
  {
   "cell_type": "code",
   "execution_count": 12,
   "id": "5ca7aa41",
   "metadata": {},
   "outputs": [],
   "source": [
    "import matplotlib.pyplot as plt\n",
    "import pandas as pd\n",
    "import seaborn as sns\n",
    "\n",
    "# Set style for better-looking plots\n",
    "sns.set_style(\"whitegrid\")\n",
    "plt.rcParams[\"figure.figsize\"] = (12, 6)\n",
    "\n",
    "# Display settings\n",
    "pd.set_option(\"display.max_columns\", None)\n",
    "pd.set_option(\"display.precision\", 2)"
   ]
  },
  {
   "cell_type": "code",
   "execution_count": 13,
   "id": "a30f5502",
   "metadata": {},
   "outputs": [],
   "source": [
    "import matplotlib.pyplot as plt\n",
    "import pandas as pd"
   ]
  },
  {
   "cell_type": "code",
   "execution_count": 14,
   "id": "e84e580a",
   "metadata": {},
   "outputs": [],
   "source": [
    "call_data = \"../data/raw/call-center-data-v2-daily.csv\"\n",
    "df = pd.read_csv(call_data, parse_dates=[\"Date\"])"
   ]
  },
  {
   "cell_type": "code",
   "execution_count": 15,
   "id": "092d1fae",
   "metadata": {},
   "outputs": [],
   "source": [
    "# Convert time columns to total seconds\n",
    "time_cols = [\"Answer Speed (AVG)\", \"Talk Duration (AVG)\", \"Waiting Time (AVG)\"]\n",
    "for col in time_cols:\n",
    "    df[col] = pd.to_timedelta(df[col]).dt.total_seconds()"
   ]
  },
  {
   "cell_type": "code",
   "execution_count": 16,
   "id": "2e7c3903",
   "metadata": {},
   "outputs": [],
   "source": [
    "# Set the Date column as the index\n",
    "df.set_index(\"Date\", inplace=True)"
   ]
  },
  {
   "cell_type": "code",
   "execution_count": 18,
   "id": "86d11681",
   "metadata": {},
   "outputs": [
    {
     "name": "stdout",
     "output_type": "stream",
     "text": [
      "            Incoming Calls  Answered Calls  Abandoned Calls  \\\n",
      "Date                                                          \n",
      "2022-01-01             157             145               12   \n",
      "2022-01-02              37              37                0   \n",
      "2022-01-03             317             304               13   \n",
      "2022-01-04             253             244                9   \n",
      "2022-01-05             214             205                9   \n",
      "\n",
      "            Answer Speed (AVG)  Talk Duration (AVG)  Waiting Time (AVG)  \n",
      "Date                                                                     \n",
      "2022-01-01                15.0                149.0               192.0  \n",
      "2022-01-02                 3.0                126.0                35.0  \n",
      "2022-01-03                18.0                 95.0               157.0  \n",
      "2022-01-04                13.0                110.0               122.0  \n",
      "2022-01-05                10.0                130.0               202.0  \n",
      "\n",
      "\n",
      "<class 'pandas.core.frame.DataFrame'>\n",
      "DatetimeIndex: 1247 entries, 2022-01-01 to 2025-05-31\n",
      "Data columns (total 6 columns):\n",
      " #   Column               Non-Null Count  Dtype  \n",
      "---  ------               --------------  -----  \n",
      " 0   Incoming Calls       1247 non-null   int64  \n",
      " 1   Answered Calls       1247 non-null   int64  \n",
      " 2   Abandoned Calls      1247 non-null   int64  \n",
      " 3   Answer Speed (AVG)   1247 non-null   float64\n",
      " 4   Talk Duration (AVG)  1247 non-null   float64\n",
      " 5   Waiting Time (AVG)   1247 non-null   float64\n",
      "dtypes: float64(3), int64(3)\n",
      "memory usage: 68.2 KB\n",
      "None\n"
     ]
    }
   ],
   "source": [
    "# Sort the index\n",
    "df.sort_index(inplace=True)\n",
    "print(df.head())\n",
    "print(\"\\n\")\n",
    "print(df.info())"
   ]
  },
  {
   "cell_type": "code",
   "execution_count": null,
   "id": "e2ea809a",
   "metadata": {},
   "outputs": [],
   "source": []
  }
 ],
 "metadata": {
  "kernelspec": {
   "display_name": "Python (Jupyter Env)",
   "language": "python",
   "name": "jupyter-env"
  },
  "language_info": {
   "codemirror_mode": {
    "name": "ipython",
    "version": 3
   },
   "file_extension": ".py",
   "mimetype": "text/x-python",
   "name": "python",
   "nbconvert_exporter": "python",
   "pygments_lexer": "ipython3",
   "version": "3.13.7"
  }
 },
 "nbformat": 4,
 "nbformat_minor": 5
}
